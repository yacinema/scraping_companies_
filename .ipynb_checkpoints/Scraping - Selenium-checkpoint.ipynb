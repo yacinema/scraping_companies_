{
 "cells": [
  {
   "attachments": {},
   "cell_type": "markdown",
   "id": "34fd8e36",
   "metadata": {},
   "source": [
    "# Web Scraping from Wikipédia"
   ]
  },
  {
   "cell_type": "markdown",
   "id": "539bac17",
   "metadata": {},
   "source": [
    "The goal is to collect information on 6 companies by scraping the wikipedia.org website. The companies are:\n",
    "- Microsoft\n",
    "- Salesforce\n",
    "- BNP Paribas\n",
    "- HSBC\n",
    "- Dataiku\n",
    "- Bouygues Construction\n",
    "\n",
    "The information we are interested in is:\n",
    "- Returned\n",
    "- Number of employees\n",
    "- The headquarters\n",
    "- Social media links\n",
    "- Website links\n",
    "\n",
    "To solve the problem we will use the Selenium library. This involves creating a Dashboard in the form of a web application where all the information collected will be represented. The application must contain a map to locate the head offices"
   ]
  },
  {
   "cell_type": "code",
   "execution_count": 94,
   "id": "7e3be50b",
   "metadata": {},
   "outputs": [],
   "source": [
    "from selenium import webdriver\n",
    "import pandas as pd\n",
    "import numpy as np\n",
    "import re"
   ]
  },
  {
   "cell_type": "markdown",
   "id": "5037aa16",
   "metadata": {},
   "source": [
    "## Web Scraping"
   ]
  },
  {
   "cell_type": "code",
   "execution_count": 95,
   "id": "d02505de",
   "metadata": {},
   "outputs": [
    {
     "name": "stderr",
     "output_type": "stream",
     "text": [
      "<ipython-input-95-c890f2328047>:4: DeprecationWarning: executable_path has been deprecated, please pass in a Service object\n",
      "  driver = webdriver.Chrome('chromedriver.exe')\n"
     ]
    }
   ],
   "source": [
    "#store website in a variable\n",
    "url = 'https://en.wikipedia.org/wiki/'\n",
    "#chromedriver\n",
    "driver = webdriver.Chrome('chromedriver.exe')"
   ]
  },
  {
   "cell_type": "code",
   "execution_count": 96,
   "id": "d70166a4",
   "metadata": {},
   "outputs": [
    {
     "name": "stderr",
     "output_type": "stream",
     "text": [
      "<ipython-input-96-e5edb018a0dc>:14: DeprecationWarning: find_elements_by_* commands are deprecated. Please use find_elements() instead\n",
      "  wiki_data = driver.find_elements_by_xpath('//table[@class=\"infobox vcard\"]/tbody')\n"
     ]
    }
   ],
   "source": [
    "companies = ['Microsoft','Salesforce','BNP Paribas','HSBC','Dataiku','Bouygues Construction']\n",
    "effectif = []\n",
    "site_web = []\n",
    "siege_social = []\n",
    "revenue = []\n",
    "\n",
    "for company in companies :\n",
    "    \n",
    "    #wikipedia extraction\n",
    "    #go to the wikipage\n",
    "    driver.get(url + company.replace(\" \", \"_\"))\n",
    "    \n",
    "    #collect raw information\n",
    "    wiki_data = driver.find_elements_by_xpath('//table[@class=\"infobox vcard\"]/tbody')\n",
    "    \n",
    "    #collect information we need using RegEx\n",
    "    effectif.append(re.findall(r\"Number of employees(.*?)\\n\",wiki_data[0].text)[0])\n",
    "    site_web.append(re.findall(r\"Website\\s\\w+\\.\\w+\\.\\w+|Website\\s\\w+\\.\\w+|Website\\s\\.*\",wiki_data[0].text)[0])\n",
    "    siege_social.append(re.findall(r\"Headquarters(.*?)\\n(.*?)\\n\",wiki_data[0].text)[0])\n",
    "    revenue.append(re.findall(r\"Revenue(.*?)\\n\",wiki_data[0].text)[0])\n",
    "       "
   ]
  },
  {
   "cell_type": "markdown",
   "id": "440762bd",
   "metadata": {},
   "source": [
    "## From raw data to preprocessed CSV file"
   ]
  },
  {
   "cell_type": "code",
   "execution_count": 97,
   "id": "b3af14bc",
   "metadata": {
    "scrolled": false
   },
   "outputs": [
    {
     "name": "stderr",
     "output_type": "stream",
     "text": [
      "<ipython-input-97-b4154194f2e9>:2: VisibleDeprecationWarning: Creating an ndarray from ragged nested sequences (which is a list-or-tuple of lists-or-tuples-or ndarrays with different lengths or shapes) is deprecated. If you meant to do this, you must specify 'dtype=object' when creating the ndarray.\n",
      "  dataframe = pd.DataFrame(data=np.array([companies,effectif,site_web,revenue,siege_social]).T, columns=[\"Name\", \"Effectif\", \"Site Web\", \"Revenue\", \"Adresse\"])\n"
     ]
    }
   ],
   "source": [
    "#create dataframe\n",
    "dataframe = pd.DataFrame(data=np.array([companies,effectif,site_web,revenue,siege_social]).T, columns=[\"Name\", \"Effectif\", \"Site Web\", \"Revenue\", \"Adresse\"])\n",
    "\n",
    "#preprocessing \n",
    "dataframe[\"Site Web\"] = dataframe[\"Site Web\"].apply(lambda x : \"https://www.\" + x.replace(\"Website\",\"\").replace(\" \",\"\"))\n",
    "dataframe[\"Effectif\"] = dataframe[\"Effectif\"].apply(lambda x : int(x.split(\"(\")[0].replace(',','').replace('+','')))\n",
    "dataframe['Revenue'] = dataframe['Revenue'].apply(lambda x : x.split(\"(\")[0])\n",
    "dataframe[\"Adresse\"] = dataframe[\"Adresse\"].apply(lambda x : \" \".join(map(str, x)).split(\"Key\")[0].split(\"Area\")[0])\n",
    "dataframe[\"Revenue\"] = dataframe[\"Revenue\"].apply(lambda x : x.replace(\".\",\"\").replace(\" million\",\"\").replace(\" billion\", \"000\"))\n",
    "dataframe[\"Revenue\"] = dataframe[\"Revenue\"].apply(lambda x : int(x.replace(\"US$\", \"\") if \"US$\" in x else 1.04*int(x.replace(\"€\", \"\"))))\n",
    "dataframe[\"LinkedIn\"] = dataframe[\"Name\"].apply(lambda x : \"https://www.linkedin.com/company/\" + x.lower().replace(\" \",\"-\") +\"/\")"
   ]
  },
  {
   "cell_type": "markdown",
   "id": "75f9eb9f",
   "metadata": {},
   "source": [
    "For the map we need to find the geographical coordinates (lontitude, latitude) from the scraped addresses."
   ]
  },
  {
   "cell_type": "code",
   "execution_count": 107,
   "id": "5b9dcc8a",
   "metadata": {},
   "outputs": [],
   "source": [
    "from geopy import Nominatim\n",
    "from geopy.extra.rate_limiter import RateLimiter\n",
    "\n",
    "\n",
    "locator = Nominatim(user_agent=\"myGeocoder\")\n",
    "location = locator.geocode(\"Washington, U.S.\")\n",
    "\n",
    "# 1 - conveneint function to delay between geocoding calls\n",
    "geocode = RateLimiter(locator.geocode, min_delay_seconds=2)\n",
    "\n",
    "def get_geocode(address):\n",
    "    \"\"\"\n",
    "    Get longitude and latitude. If the \n",
    "    starting address does not allow it.\n",
    "    Words are deleted until the address\n",
    "    is understood by the \n",
    "    geopy.Nominatim.geocode function.\n",
    "    \n",
    "    Parameters :\n",
    "    ------------\n",
    "    \n",
    "    address : str\n",
    "    \n",
    "    Return \n",
    "    ------\n",
    "    \n",
    "    longitude, latitude : float\n",
    "    \n",
    "    \"\"\"\n",
    "    \n",
    "    while geocode(address) == None :\n",
    "        address = \" \".join(address.split()[1:])\n",
    "\n",
    "\n",
    "        if address == \"\":\n",
    "            return None, None\n",
    "        \n",
    "    return geocode(address).longitude, geocode(address).latitude"
   ]
  },
  {
   "cell_type": "code",
   "execution_count": 114,
   "id": "84087c90",
   "metadata": {},
   "outputs": [],
   "source": [
    "longitude = []\n",
    "latitude = []\n",
    "\n",
    "for address in dataframe[\"Adresse\"] :\n",
    "    \n",
    "    long, lat = get_geocode(address)\n",
    "    \n",
    "    longitude.append(long)\n",
    "    latitude.append(lat)"
   ]
  },
  {
   "cell_type": "code",
   "execution_count": 115,
   "id": "6552bd85",
   "metadata": {},
   "outputs": [],
   "source": [
    "dataframe[\"Longitude\"] = longitude\n",
    "dataframe[\"Latitude\"] = latitude"
   ]
  },
  {
   "cell_type": "code",
   "execution_count": 116,
   "id": "350707d7",
   "metadata": {},
   "outputs": [
    {
     "data": {
      "text/html": [
       "<div>\n",
       "<style scoped>\n",
       "    .dataframe tbody tr th:only-of-type {\n",
       "        vertical-align: middle;\n",
       "    }\n",
       "\n",
       "    .dataframe tbody tr th {\n",
       "        vertical-align: top;\n",
       "    }\n",
       "\n",
       "    .dataframe thead th {\n",
       "        text-align: right;\n",
       "    }\n",
       "</style>\n",
       "<table border=\"1\" class=\"dataframe\">\n",
       "  <thead>\n",
       "    <tr style=\"text-align: right;\">\n",
       "      <th></th>\n",
       "      <th>Name</th>\n",
       "      <th>Effectif</th>\n",
       "      <th>Site Web</th>\n",
       "      <th>Revenue</th>\n",
       "      <th>Adresse</th>\n",
       "      <th>LinkedIn</th>\n",
       "      <th>Longitude</th>\n",
       "      <th>Latitude</th>\n",
       "    </tr>\n",
       "  </thead>\n",
       "  <tbody>\n",
       "    <tr>\n",
       "      <th>0</th>\n",
       "      <td>Microsoft</td>\n",
       "      <td>221000</td>\n",
       "      <td>https://www.microsoft.com</td>\n",
       "      <td>1983000</td>\n",
       "      <td>One Microsoft Way Redmond, Washington, U.S.</td>\n",
       "      <td>https://www.linkedin.com/company/microsoft/</td>\n",
       "      <td>-122.177950</td>\n",
       "      <td>47.618895</td>\n",
       "    </tr>\n",
       "    <tr>\n",
       "      <th>1</th>\n",
       "      <td>Salesforce</td>\n",
       "      <td>73542</td>\n",
       "      <td>https://www.salesforce.com</td>\n",
       "      <td>2649000</td>\n",
       "      <td>Salesforce Tower San Francisco, California, U.S.</td>\n",
       "      <td>https://www.linkedin.com/company/salesforce/</td>\n",
       "      <td>-60.685076</td>\n",
       "      <td>-33.029148</td>\n",
       "    </tr>\n",
       "    <tr>\n",
       "      <th>2</th>\n",
       "      <td>BNP Paribas</td>\n",
       "      <td>190000</td>\n",
       "      <td>https://www.group.bnpparibas</td>\n",
       "      <td>480480</td>\n",
       "      <td>Boulevard des Italiens, Paris, France</td>\n",
       "      <td>https://www.linkedin.com/company/bnp-paribas/</td>\n",
       "      <td>2.339403</td>\n",
       "      <td>48.871890</td>\n",
       "    </tr>\n",
       "    <tr>\n",
       "      <th>3</th>\n",
       "      <td>HSBC</td>\n",
       "      <td>219697</td>\n",
       "      <td>https://www.www.hsbc.com</td>\n",
       "      <td>49552000</td>\n",
       "      <td>8 Canada Square London, England, UK</td>\n",
       "      <td>https://www.linkedin.com/company/hsbc/</td>\n",
       "      <td>-0.017440</td>\n",
       "      <td>51.505432</td>\n",
       "    </tr>\n",
       "    <tr>\n",
       "      <th>4</th>\n",
       "      <td>Dataiku</td>\n",
       "      <td>1000</td>\n",
       "      <td>https://www.dataiku.com</td>\n",
       "      <td>150</td>\n",
       "      <td>New York City, United States</td>\n",
       "      <td>https://www.linkedin.com/company/dataiku/</td>\n",
       "      <td>-74.006015</td>\n",
       "      <td>40.712728</td>\n",
       "    </tr>\n",
       "    <tr>\n",
       "      <th>5</th>\n",
       "      <td>Bouygues Construction</td>\n",
       "      <td>124600</td>\n",
       "      <td>https://www.</td>\n",
       "      <td>3909360</td>\n",
       "      <td>8th arrondissement, Paris, France</td>\n",
       "      <td>https://www.linkedin.com/company/bouygues-cons...</td>\n",
       "      <td>2.317650</td>\n",
       "      <td>48.877480</td>\n",
       "    </tr>\n",
       "  </tbody>\n",
       "</table>\n",
       "</div>"
      ],
      "text/plain": [
       "                    Name  Effectif                      Site Web   Revenue  \\\n",
       "0              Microsoft    221000     https://www.microsoft.com   1983000   \n",
       "1             Salesforce     73542    https://www.salesforce.com   2649000   \n",
       "2            BNP Paribas    190000  https://www.group.bnpparibas    480480   \n",
       "3                   HSBC    219697      https://www.www.hsbc.com  49552000   \n",
       "4                Dataiku      1000       https://www.dataiku.com       150   \n",
       "5  Bouygues Construction    124600                  https://www.   3909360   \n",
       "\n",
       "                                             Adresse  \\\n",
       "0        One Microsoft Way Redmond, Washington, U.S.   \n",
       "1   Salesforce Tower San Francisco, California, U.S.   \n",
       "2             Boulevard des Italiens, Paris, France    \n",
       "3                8 Canada Square London, England, UK   \n",
       "4                      New York City, United States    \n",
       "5                 8th arrondissement, Paris, France    \n",
       "\n",
       "                                            LinkedIn   Longitude   Latitude  \n",
       "0        https://www.linkedin.com/company/microsoft/ -122.177950  47.618895  \n",
       "1       https://www.linkedin.com/company/salesforce/  -60.685076 -33.029148  \n",
       "2      https://www.linkedin.com/company/bnp-paribas/    2.339403  48.871890  \n",
       "3             https://www.linkedin.com/company/hsbc/   -0.017440  51.505432  \n",
       "4          https://www.linkedin.com/company/dataiku/  -74.006015  40.712728  \n",
       "5  https://www.linkedin.com/company/bouygues-cons...    2.317650  48.877480  "
      ]
     },
     "execution_count": 116,
     "metadata": {},
     "output_type": "execute_result"
    }
   ],
   "source": [
    "dataframe"
   ]
  },
  {
   "cell_type": "code",
   "execution_count": 118,
   "id": "c89fc8b0",
   "metadata": {},
   "outputs": [
    {
     "ename": "SyntaxError",
     "evalue": "(unicode error) 'unicodeescape' codec can't decode bytes in position 2-3: truncated \\UXXXXXXXX escape (<ipython-input-118-06676fb32b11>, line 1)",
     "output_type": "error",
     "traceback": [
      "\u001b[1;36m  File \u001b[1;32m\"<ipython-input-118-06676fb32b11>\"\u001b[1;36m, line \u001b[1;32m1\u001b[0m\n\u001b[1;33m    dataframe.to_csv(\"C:\\Users\\Yacine Mam'd\\Desktop\\2IA\\delpha\\collected_data\\delpha_data.txt\")\u001b[0m\n\u001b[1;37m                     ^\u001b[0m\n\u001b[1;31mSyntaxError\u001b[0m\u001b[1;31m:\u001b[0m (unicode error) 'unicodeescape' codec can't decode bytes in position 2-3: truncated \\UXXXXXXXX escape\n"
     ]
    }
   ],
   "source": [
    "dataframe.to_csv(\"delpha\\collected_data\\delpha_data.txt\")"
   ]
  },
  {
   "cell_type": "code",
   "execution_count": null,
   "id": "f03d5439",
   "metadata": {},
   "outputs": [],
   "source": []
  }
 ],
 "metadata": {
  "kernelspec": {
   "display_name": "delpha_venv",
   "language": "python",
   "name": "delpha_venv"
  },
  "language_info": {
   "codemirror_mode": {
    "name": "ipython",
    "version": 3
   },
   "file_extension": ".py",
   "mimetype": "text/x-python",
   "name": "python",
   "nbconvert_exporter": "python",
   "pygments_lexer": "ipython3",
   "version": "3.8.8"
  }
 },
 "nbformat": 4,
 "nbformat_minor": 5
}
